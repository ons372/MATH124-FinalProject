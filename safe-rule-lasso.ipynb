{
 "cells": [
  {
   "cell_type": "markdown",
   "metadata": {},
   "source": [
    "These are the plots for comparing coordinate descent convergence and computational time with and without the SAFE rule."
   ]
  },
  {
   "cell_type": "markdown",
   "metadata": {},
   "source": [
    "Helper functions"
   ]
  },
  {
   "cell_type": "code",
   "execution_count": 10,
   "metadata": {},
   "outputs": [],
   "source": [
    "import numpy as np\n",
    "import matplotlib.pyplot as plt\n",
    "import time as time\n",
    "\n",
    "def soft_thresholding(f, lmbda):\n",
    "    return np.sign(f) * np.maximum(np.abs(f) - lmbda, 0)\n",
    "\n",
    "def coord_descent(X, y, lmbda, niter=1000):\n",
    "    n, p = X.shape\n",
    "    theta = np.zeros(p)\n",
    "    for iteration in range(niter):\n",
    "        for j in range(p):\n",
    "            rho = X[:, j].T @ (y - X @ theta + X[:, j] * theta[j])\n",
    "            theta[j] = soft_thresholding(rho / (X[:, j].T @ X[:, j]), lmbda)\n",
    "    return theta\n",
    "\n",
    "\n",
    "def safe_rule_lasso(X, y, lmbda, lmbda_max, safe_mask):\n",
    "    n, p = X.shape\n",
    "    for i in range(p):\n",
    "        if not safe_mask[i]:\n",
    "            inner_product = np.abs(X[:, i].T @ y)\n",
    "            threshold = np.linalg.norm(X[:, i], ord=2) * np.linalg.norm(y, ord=2) * (lmbda_max - lmbda) / (lmbda_max)\n",
    "\n",
    "            if inner_product < .15*threshold:\n",
    "                safe_mask[i] = True\n",
    "    return safe_mask\n",
    "\n",
    "\n",
    "def safe_coord_descent(X, y, lmbda, niter=1000):\n",
    "    n, p = X.shape\n",
    "    lmbda_max = np.linalg.norm(X.T @ y, ord=np.inf) #infinity norm, from theorem\n",
    "    theta = np.zeros(p)\n",
    "    safe_mask = np.zeros(p, dtype=bool)\n",
    "    for iteration in range(niter):\n",
    "        safe_mask= safe_rule_lasso(X, y, lmbda, lmbda_max, safe_mask)\n",
    "        for j in range(p):\n",
    "            if safe_mask[j]:\n",
    "                continue  #this coefficient is skipped, because it is zero in the optimal solution.\n",
    "            rho = X[:, j].T @ (y - X @ theta + X[:, j] * theta[j])\n",
    "            theta[j] = soft_thresholding(rho / (X[:, j].T @ X[:, j]), lmbda)\n",
    "    return theta"
   ]
  },
  {
   "cell_type": "markdown",
   "metadata": {},
   "source": [
    "Experiment 1: Comparing convergence in iterations for coordinate descent vs coordinate descent + safe rule"
   ]
  },
  {
   "cell_type": "code",
   "execution_count": 7,
   "metadata": {},
   "outputs": [
    {
     "data": {
      "image/png": "[encoded data removed]",
      "text/plain": [
       "<Figure size 640x480 with 1 Axes>"
      ]
     },
     "metadata": {},
     "output_type": "display_data"
    }
   ],
   "source": [
    "np.random.seed(42)\n",
    "n, p = 100, 10\n",
    "lmbda = 0.01\n",
    "niter = 100\n",
    "X = np.random.randn(n, p)\n",
    "theta_hat = np.ones(p)\n",
    "y = X @ theta_hat + 0.5 * np.random.randn(n)\n",
    "start_time_cd = time.time()\n",
    "log_errors_cd = []\n",
    "log_theta_diffs_cd = []\n",
    "theta_cd = np.zeros(p)\n",
    "for k in range(1, niter + 1):\n",
    "    theta_cd = coord_descent(X, y, lmbda, niter=k)\n",
    "    log_errors_cd.append(np.log(np.linalg.norm(theta_cd - theta_hat, ord=2)))\n",
    "time_cd = time.time() - start_time_cd\n",
    "start_time_safe = time.time()\n",
    "log_errors_safe = []\n",
    "theta_safe = np.zeros(p)\n",
    "for k in range(1, niter + 1):\n",
    "    theta_safe = safe_coord_descent(X, y, lmbda, niter=k)\n",
    "    log_errors_safe.append(np.log(np.linalg.norm(theta_safe - theta_hat, ord=2)))\n",
    "time_safe = time.time() - start_time_safe\n",
    "\n",
    "plt.plot(np.log(range(1, niter + 1)), log_errors_cd, label='Coord Descent')\n",
    "plt.plot(np.log(range(1, niter + 1)), log_errors_safe, label='Coord Descent + SAFE rule')\n",
    "plt.xlabel('log k')\n",
    "plt.ylabel('Log Error')\n",
    "plt.legend()\n",
    "plt.show()"
   ]
  },
  {
   "cell_type": "markdown",
   "metadata": {},
   "source": [
    "Experiment 2: Comparing computational time"
   ]
  },
  {
   "cell_type": "code",
   "execution_count": 9,
   "metadata": {},
   "outputs": [
    {
     "name": "stdout",
     "output_type": "stream",
     "text": [
      "pure coordinate descent: 1.0128 seconds\n",
      "with SAFE rule: 1.1929 seconds\n",
      "Time savings: -0.1801 seconds\n"
     ]
    }
   ],
   "source": [
    "print(f\"pure coordinate descent: {time_cd:.4f} seconds\")\n",
    "print(f\"with SAFE rule: {time_safe:.4f} seconds\")\n",
    "print(f\"Time savings: {time_cd - time_safe:.4f} seconds\")\n"
   ]
  }
 ],
 "metadata": {
  "kernelspec": {
   "display_name": "cvxpy_env",
   "language": "python",
   "name": "python3"
  },
  "language_info": {
   "codemirror_mode": {
    "name": "ipython",
    "version": 3
   },
   "file_extension": ".py",
   "mimetype": "text/x-python",
   "name": "python",
   "nbconvert_exporter": "python",
   "pygments_lexer": "ipython3",
   "version": "3.12.7"
  }
 },
 "nbformat": 4,
 "nbformat_minor": 2
}
