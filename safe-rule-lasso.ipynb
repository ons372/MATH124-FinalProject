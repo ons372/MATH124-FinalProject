{
 "cells": [
  {
   "cell_type": "markdown",
   "metadata": {},
   "source": [
    "These are the plots for comparing coordinate descent convergence and computational time with and without the SAFE rule."
   ]
  },
  {
   "cell_type": "markdown",
   "metadata": {},
   "source": [
    "Initialize the problem setup, using a lambda close to lambda_max to ensure enough variables are screened out."
   ]
  },
  {
   "cell_type": "code",
   "execution_count": 3,
   "metadata": {},
   "outputs": [],
   "source": [
    "import numpy as np\n",
    "import matplotlib.pyplot as plt\n",
    "import cvxpy as cp\n",
    "\n",
    "np.random.seed(42)\n",
    "n, p = 100, 200\n",
    "X = np.random.randn(n, p)\n",
    "niter = 50\n",
    "\n",
    "theta_true = np.zeros(p)\n",
    "non_zero_indices = np.random.choice(p, size=10, replace=False)\n",
    "theta_true[non_zero_indices] = np.random.uniform(1, 5, size=10)\n",
    "\n",
    "noise = 0.01 * np.random.randn(n)\n",
    "y = X @ theta_true + noise\n",
    "\n",
    "lmbda_max = np.linalg.norm(X.T @ y, ord=np.inf)\n",
    "l = lmbda_max*0.7"
   ]
  },
  {
   "cell_type": "markdown",
   "metadata": {},
   "source": [
    "Get the optimal theta using CVX for the lasso problem:"
   ]
  },
  {
   "cell_type": "code",
   "execution_count": 4,
   "metadata": {},
   "outputs": [],
   "source": [
    "theta = cp.Variable(p)\n",
    "lasso_objective = cp.Minimize(0.5 * cp.sum_squares(X @ theta - y) + l * cp.norm1(theta))\n",
    "problem = cp.Problem(lasso_objective)\n",
    "problem.solve()\n",
    "theta_hat_cvxpy = theta.value"
   ]
  },
  {
   "cell_type": "markdown",
   "metadata": {},
   "source": [
    "Now run pure coordinate descent for objective:"
   ]
  },
  {
   "cell_type": "code",
   "execution_count": 5,
   "metadata": {},
   "outputs": [],
   "source": [
    "cd_theta = np.random.randn(p)\n",
    "log_errors_cd = []\n",
    "for k in range(niter):\n",
    "    for j in range(p):\n",
    "        rho = X[:, j].T @ (y - X @ cd_theta + X[:, j] * cd_theta[j])\n",
    "        if rho < -l:\n",
    "            cd_theta[j] = (rho + l) / (X[:, j].T @ X[:, j])\n",
    "        elif rho > l:\n",
    "            cd_theta[j] = (rho - l) / (X[:, j].T @ X[:, j])\n",
    "        else:\n",
    "            cd_theta[j] = 0\n",
    "    error = np.linalg.norm(cd_theta - theta_hat_cvxpy)\n",
    "    log_errors_cd.append(np.log(error))"
   ]
  },
  {
   "cell_type": "markdown",
   "metadata": {},
   "source": [
    "Now we will re-run coordinate descent for the same objective, but this time screening out some variables that become 0 in $$\\Beta_i$$"
   ]
  },
  {
   "cell_type": "code",
   "execution_count": 6,
   "metadata": {},
   "outputs": [
    {
     "name": "stdout",
     "output_type": "stream",
     "text": [
      " 5400 variables screened out out of 10000 total variables\n"
     ]
    }
   ],
   "source": [
    "safe_theta = np.random.randn(p)\n",
    "log_errors_safe = []\n",
    "screened_out_count = 0\n",
    "total_vars=0\n",
    "for k in range(niter):\n",
    "    for j in range(p):\n",
    "        total_vars+=1\n",
    "        inner_product = np.abs(X[:, j].T @ y)\n",
    "        threshold = (l - (np.linalg.norm(X[:, j], ord=2) * np.linalg.norm(y, ord=2) * (lmbda_max - l) / lmbda_max))\n",
    "        if inner_product < threshold:\n",
    "            screened_out_count += 1\n",
    "            safe_theta[j] = 0\n",
    "            continue\n",
    "        rho = X[:, j].T @ (y - X @ safe_theta + X[:, j] * safe_theta[j])\n",
    "        if rho < -l:\n",
    "            safe_theta[j] = (rho + l) / (X[:, j].T @ X[:, j])\n",
    "        elif rho > l:\n",
    "            safe_theta[j] = (rho - l) / (X[:, j].T @ X[:, j])\n",
    "        else:\n",
    "            safe_theta[j] = 0\n",
    "    error = np.linalg.norm(safe_theta - theta_hat_cvxpy)\n",
    "    log_errors_safe.append(np.log(error))\n",
    "print(f\" {screened_out_count} variables screened out out of {total_vars} total variables\")"
   ]
  },
  {
   "cell_type": "markdown",
   "metadata": {},
   "source": [
    "Now we will plot the log error vs iteration for both methods, to compare convergence rates:"
   ]
  },
  {
   "cell_type": "code",
   "execution_count": 7,
   "metadata": {},
   "outputs": [
    {
     "data": {
      "image/png": "[encoded data removed]",
      "text/plain": [
       "<Figure size 640x480 with 1 Axes>"
      ]
     },
     "metadata": {},
     "output_type": "display_data"
    }
   ],
   "source": [
    "plt.figure()\n",
    "plt.plot(range(1, niter + 1), log_errors_cd, label=\"coordinate descent\")\n",
    "plt.plot(range(1, niter + 1), log_errors_safe, label=\"coordinate descent + SAFE rule\")\n",
    "plt.xlabel(\"k\")\n",
    "plt.ylabel(\"log error\")\n",
    "plt.legend()\n",
    "plt.show()"
   ]
  },
  {
   "cell_type": "markdown",
   "metadata": {},
   "source": [
    "As you can see, the error in both methods approaches 0, but the SAFE rule enhanced method converges in fewer iterations due to screening out those variables that are 0 in the optimal solution."
   ]
  }
 ],
 "metadata": {
  "kernelspec": {
   "display_name": "cvxpy_env",
   "language": "python",
   "name": "python3"
  },
  "language_info": {
   "codemirror_mode": {
    "name": "ipython",
    "version": 3
   },
   "file_extension": ".py",
   "mimetype": "text/x-python",
   "name": "python",
   "nbconvert_exporter": "python",
   "pygments_lexer": "ipython3",
   "version": "3.12.7"
  }
 },
 "nbformat": 4,
 "nbformat_minor": 2
}
